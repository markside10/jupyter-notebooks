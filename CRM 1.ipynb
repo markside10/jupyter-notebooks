{
 "cells": [
  {
   "cell_type": "code",
   "execution_count": 1,
   "id": "5442f090",
   "metadata": {},
   "outputs": [
    {
     "name": "stderr",
     "output_type": "stream",
     "text": [
      "C:\\Users\\CARBAY~2\\AppData\\Local\\Temp/ipykernel_16160/981384055.py:11: FutureWarning: The pandas.datetime class is deprecated and will be removed from pandas in a future version. Import from datetime module instead.\n",
      "  counter = pd.datetime.now().strftime(\"%m-%d-%Y\")\n",
      "C:\\Users\\CARBAY~2\\AppData\\Local\\Temp/ipykernel_16160/981384055.py:28: FutureWarning: The pandas.datetime class is deprecated and will be removed from pandas in a future version. Import from datetime module instead.\n",
      "  'CRM_LAST_CALL_DATE' : pd.datetime.now().strftime(\"%m/%d/%Y\")} ,\n"
     ]
    }
   ],
   "source": [
    "import pymysql\n",
    "import pandas as pd\n",
    "import datetime\n",
    "import smtplib\n",
    "from email.mime.text import MIMEText\n",
    "from email.mime.multipart import MIMEMultipart\n",
    "from email.mime.base import MIMEBase\n",
    "from email import encoders\n",
    "import os.path\n",
    "\n",
    "counter = pd.datetime.now().strftime(\"%m-%d-%Y\")\n",
    "\n",
    "process_name = 'Suzuki' #PUT PROCESS NAME\n",
    "process_id = '524' #PUT PROCESS ID\n",
    "\n",
    "conn=pymysql.connect(host='10.10.30.4',port=int(3306),user='Mark',passwd='Mark##EKK3##@wee2',db='international_crm')\n",
    "\n",
    "data=pd.read_sql_query(\"SELECT clac.lead_id as CRM_ID,clc.name as CRM_NAME,clc.mobile as CRM_MOBILE,clac.created_date as CRM_CREATE_DATE,cl.num_attempt as CRM_CALL_ATTEMPT, if(cl.call_start_time is null, '', cl.call_start_time) as CRM_LAST_CALL_DATE, csl.name CRM_STAUS,cssl.name CRM_SUB_STATUS, if(cl.followup_date is null, '', cl.followup_date) as CRM_FOLLOW_UP_DATE, mml.model as LMS_MODEL, CASE WHEN (cl.purchase_car_details is not null AND cl.purchase_car_details !='') THEN (SELECT make FROM inventory.car_make_lang WHERE make_id=JSON_EXTRACT(cl.purchase_car_details, '$.make_id') and lang_id='1') END CRM_BOUGHT_MAKE, CASE WHEN (cl.purchase_car_details is not null AND cl.purchase_car_details !='') THEN (SELECT model FROM inventory.make_model_lang WHERE model_id=JSON_EXTRACT(cl.purchase_car_details, '$.model_id')  and lang_id='1') END CRM_BOUGHT_MODEL, if(cl.purchase_date is null, '', cl.purchase_date) as CRM_PURCHASE_DATE, dealer.name as CRM_PURCHASED_DEALER, if(dealer.name is null, '', dealer.name) as CRM_PURCHASED_DEALER, clac.ld_id as REQUEST_ID, case cl.attribution_status_id when 1 then 'New To Attribution' when 2 then 'Attribution Pending' when 3 then 'Attributed' when 4 then 'Closed' when 5 then 'Rejected' else '-' end as CRM_ATTRIBUTION_STATUS, crll.name CRM_REASON_BUYING, if(cl.booking_date is null, '', cl.booking_date) as CRM_BOOKING_DATE, case cg.gm_id when 524 then 'Suzuki' end as PROCESS_NAME, cg.gm_id as PROCESS_ID, curdate() as UPDATE_DATE, case cl.stnk_id when 3 then 'Not Provided' when 2 then 'Provided' when 1 then 'Pending' else 'Not Updated' end as CNS_DETAILS FROM international_crm.crm_campaign_configurator ccc INNER JOIN international_crm.crm_gm cg ON cg.gm_id = ccc.gm_id INNER JOIN international_crm.crm_gm_dse_mapping cgdm ON cgdm.gm_id = cg.id AND cgdm.status = '1' INNER JOIN international_crm.crm_lead_assign_car clac ON clac.dse_id = cgdm.dse_id LEFT JOIN international_crm.crm_sublead_detail csd ON csd.assign_car_id = clac.id INNER JOIN international_crm.crm_lead cl ON cl.id = clac.lead_id INNER JOIN international_crm.crm_lead_customer clc ON clc.id = cl.customer_id INNER JOIN international_crm.crm_status_lang csl ON csl.status_id = cl.status_id AND csl.lang_id = 1 LEFT JOIN international_crm.crm_status_lang lms ON lms.status_id = clac.lms_status AND lms.lang_id = 1 INNER JOIN international_crm.crm_sub_status_lang cssl ON cssl.sub_status_id = cl.sub_status_id AND cssl.lang_id = 1 INNER JOIN inventory.make_model_lang mml ON mml.model_id=clac.model_id and mml.lang_id=1 LEFT JOIN international_crm.crm_raw_lead AS crl ON crl.id_lead = clac.id_lead AND clac.id_lead > 0 left join international_crm.crm_reasons_lang as crll on crll.reason_id=cl.reason_id and crll.lang_id='1' left join international_crm.dealer_lang as dealer on dealer.dealer_id = cl.purchase_dealer_id WHERE ccc.gm_id IN (524) AND ccc.campaign_type = 'CPS' AND ccc.is_active_process = '1' group by clac.lead_id; # 524 Suzuki\" ,conn)\n",
    "#SELECT * FROM CREATED_TABLE\n",
    "\n",
    "row1 = data.append({} , \n",
    "                    ignore_index=True)\n",
    "row2 = row1.append({} , \n",
    "                    ignore_index=True)\n",
    "\n",
    "row3 = row2.append({'CRM_NAME' : '--- UPDATE DATE ---',\n",
    "                    'CRM_CREATE_DATE' : \"-->\",\n",
    "                    'CRM_LAST_CALL_DATE' : pd.datetime.now().strftime(\"%m/%d/%Y\")} , \n",
    "                    ignore_index=True)\n",
    "\n",
    "#row3.to_csv('Ops Data.csv', index=False) #dulo lage #dulo 2\n",
    "\n",
    "row3.to_csv(process_id+'-'+process_name+'.csv', index=False)"
   ]
  },
  {
   "cell_type": "code",
   "execution_count": 2,
   "id": "56d5a47b",
   "metadata": {},
   "outputs": [
    {
     "name": "stderr",
     "output_type": "stream",
     "text": [
      "C:\\Users\\CARBAY~2\\AppData\\Local\\Temp/ipykernel_16160/2373573862.py:11: FutureWarning: The pandas.datetime class is deprecated and will be removed from pandas in a future version. Import from datetime module instead.\n",
      "  counter = pd.datetime.now().strftime(\"%m-%d-%Y\")\n",
      "C:\\Users\\CARBAY~2\\AppData\\Local\\Temp/ipykernel_16160/2373573862.py:28: FutureWarning: The pandas.datetime class is deprecated and will be removed from pandas in a future version. Import from datetime module instead.\n",
      "  'CRM_LAST_CALL_DATE' : pd.datetime.now().strftime(\"%m/%d/%Y\")} ,\n"
     ]
    }
   ],
   "source": [
    "import pymysql\n",
    "import pandas as pd\n",
    "import datetime\n",
    "import smtplib\n",
    "from email.mime.text import MIMEText\n",
    "from email.mime.multipart import MIMEMultipart\n",
    "from email.mime.base import MIMEBase\n",
    "from email import encoders\n",
    "import os.path\n",
    "\n",
    "counter = pd.datetime.now().strftime(\"%m-%d-%Y\")\n",
    "\n",
    "process_name = 'Maxus' #PUT PROCESS NAME\n",
    "process_id = '510' #PUT PROCESS ID\n",
    "\n",
    "conn=pymysql.connect(host='10.10.30.4',port=int(3306),user='Mark',passwd='Mark##EKK3##@wee2',db='international_crm')\n",
    "\n",
    "data=pd.read_sql_query(\"SELECT clac.lead_id as CRM_ID,clc.name as CRM_NAME,clc.mobile as CRM_MOBILE,clac.created_date as CRM_CREATE_DATE,cl.num_attempt as CRM_CALL_ATTEMPT, if(cl.call_start_time is null, '', cl.call_start_time) as CRM_LAST_CALL_DATE, csl.name CRM_STAUS,cssl.name CRM_SUB_STATUS, if(cl.followup_date is null, '', cl.followup_date) as CRM_FOLLOW_UP_DATE, mml.model as LMS_MODEL, CASE WHEN (cl.purchase_car_details is not null AND cl.purchase_car_details !='') THEN (SELECT make FROM inventory.car_make_lang WHERE make_id=JSON_EXTRACT(cl.purchase_car_details, '$.make_id') and lang_id='1') END CRM_BOUGHT_MAKE, CASE WHEN (cl.purchase_car_details is not null AND cl.purchase_car_details !='') THEN (SELECT model FROM inventory.make_model_lang WHERE model_id=JSON_EXTRACT(cl.purchase_car_details, '$.model_id')  and lang_id='1') END CRM_BOUGHT_MODEL, if(cl.purchase_date is null, '', cl.purchase_date) as CRM_PURCHASE_DATE, dealer.name as CRM_PURCHASED_DEALER, if(dealer.name is null, '', dealer.name) as CRM_PURCHASED_DEALER, clac.ld_id as REQUEST_ID, case cl.attribution_status_id when 1 then 'New To Attribution' when 2 then 'Attribution Pending' when 3 then 'Attributed' when 4 then 'Closed' when 5 then 'Rejected' else '-' end as CRM_ATTRIBUTION_STATUS, crll.name CRM_REASON_BUYING, if(cl.booking_date is null, '', cl.booking_date) as CRM_BOOKING_DATE, case cg.gm_id when 510 then 'Maxus' end as PROCESS_NAME, cg.gm_id as PROCESS_ID, curdate() as UPDATE_DATE, case cl.stnk_id when 3 then 'Not Provided' when 2 then 'Provided' when 1 then 'Pending' else 'Not Updated' end as CNS_DETAILS FROM international_crm.crm_campaign_configurator ccc INNER JOIN international_crm.crm_gm cg ON cg.gm_id = ccc.gm_id INNER JOIN international_crm.crm_gm_dse_mapping cgdm ON cgdm.gm_id = cg.id AND cgdm.status = '1' INNER JOIN international_crm.crm_lead_assign_car clac ON clac.dse_id = cgdm.dse_id LEFT JOIN international_crm.crm_sublead_detail csd ON csd.assign_car_id = clac.id INNER JOIN international_crm.crm_lead cl ON cl.id = clac.lead_id INNER JOIN international_crm.crm_lead_customer clc ON clc.id = cl.customer_id INNER JOIN international_crm.crm_status_lang csl ON csl.status_id = cl.status_id AND csl.lang_id = 1 LEFT JOIN international_crm.crm_status_lang lms ON lms.status_id = clac.lms_status AND lms.lang_id = 1 INNER JOIN international_crm.crm_sub_status_lang cssl ON cssl.sub_status_id = cl.sub_status_id AND cssl.lang_id = 1 INNER JOIN inventory.make_model_lang mml ON mml.model_id=clac.model_id and mml.lang_id=1 LEFT JOIN international_crm.crm_raw_lead AS crl ON crl.id_lead = clac.id_lead AND clac.id_lead > 0 left join international_crm.crm_reasons_lang as crll on crll.reason_id=cl.reason_id and crll.lang_id='1' left join international_crm.dealer_lang as dealer on dealer.dealer_id = cl.purchase_dealer_id WHERE ccc.gm_id IN (510) AND ccc.campaign_type = 'CPS' AND ccc.is_active_process = '1' group by clac.lead_id; # 510 Maxus\" ,conn)\n",
    "#SELECT * FROM CREATED_TABLE\n",
    "\n",
    "row1 = data.append({} , \n",
    "                    ignore_index=True)\n",
    "row2 = row1.append({} , \n",
    "                    ignore_index=True)\n",
    "\n",
    "row3 = row2.append({'CRM_NAME' : '--- UPDATE DATE ---',\n",
    "                    'CRM_CREATE_DATE' : \"-->\",\n",
    "                    'CRM_LAST_CALL_DATE' : pd.datetime.now().strftime(\"%m/%d/%Y\")} , \n",
    "                    ignore_index=True)\n",
    "\n",
    "#row3.to_csv('Ops Data.csv', index=False) #dulo lage #dulo 2\n",
    "\n",
    "row3.to_csv(process_id+'-'+process_name+'.csv', index=False)"
   ]
  },
  {
   "cell_type": "code",
   "execution_count": 3,
   "id": "89f70629",
   "metadata": {},
   "outputs": [
    {
     "name": "stderr",
     "output_type": "stream",
     "text": [
      "C:\\Users\\CARBAY~2\\AppData\\Local\\Temp/ipykernel_16160/2579983193.py:11: FutureWarning: The pandas.datetime class is deprecated and will be removed from pandas in a future version. Import from datetime module instead.\n",
      "  counter = pd.datetime.now().strftime(\"%m-%d-%Y\")\n",
      "C:\\Users\\CARBAY~2\\AppData\\Local\\Temp/ipykernel_16160/2579983193.py:28: FutureWarning: The pandas.datetime class is deprecated and will be removed from pandas in a future version. Import from datetime module instead.\n",
      "  'CRM_LAST_CALL_DATE' : pd.datetime.now().strftime(\"%m/%d/%Y\")} ,\n"
     ]
    }
   ],
   "source": [
    "import pymysql\n",
    "import pandas as pd\n",
    "import datetime\n",
    "import smtplib\n",
    "from email.mime.text import MIMEText\n",
    "from email.mime.multipart import MIMEMultipart\n",
    "from email.mime.base import MIMEBase\n",
    "from email import encoders\n",
    "import os.path\n",
    "\n",
    "counter = pd.datetime.now().strftime(\"%m-%d-%Y\")\n",
    "\n",
    "process_name = 'Kia' #PUT PROCESS NAME\n",
    "process_id = '459' #PUT PROCESS ID\n",
    "\n",
    "conn=pymysql.connect(host='10.10.30.4',port=int(3306),user='Mark',passwd='Mark##EKK3##@wee2',db='international_crm')\n",
    "\n",
    "data=pd.read_sql_query(\"SELECT clac.lead_id as CRM_ID,clc.name as CRM_NAME,clc.mobile as CRM_MOBILE,clac.created_date as CRM_CREATE_DATE,cl.num_attempt as CRM_CALL_ATTEMPT, if(cl.call_start_time is null, '', cl.call_start_time) as CRM_LAST_CALL_DATE, csl.name CRM_STAUS,cssl.name CRM_SUB_STATUS, if(cl.followup_date is null, '', cl.followup_date) as CRM_FOLLOW_UP_DATE, mml.model as LMS_MODEL, CASE WHEN (cl.purchase_car_details is not null AND cl.purchase_car_details !='') THEN (SELECT make FROM inventory.car_make_lang WHERE make_id=JSON_EXTRACT(cl.purchase_car_details, '$.make_id') and lang_id='1') END CRM_BOUGHT_MAKE, CASE WHEN (cl.purchase_car_details is not null AND cl.purchase_car_details !='') THEN (SELECT model FROM inventory.make_model_lang WHERE model_id=JSON_EXTRACT(cl.purchase_car_details, '$.model_id')  and lang_id='1') END CRM_BOUGHT_MODEL, if(cl.purchase_date is null, '', cl.purchase_date) as CRM_PURCHASE_DATE, dealer.name as CRM_PURCHASED_DEALER, if(dealer.name is null, '', dealer.name) as CRM_PURCHASED_DEALER, clac.ld_id as REQUEST_ID, case cl.attribution_status_id when 1 then 'New To Attribution' when 2 then 'Attribution Pending' when 3 then 'Attributed' when 4 then 'Closed' when 5 then 'Rejected' else '-' end as CRM_ATTRIBUTION_STATUS, crll.name CRM_REASON_BUYING, if(cl.booking_date is null, '', cl.booking_date) as CRM_BOOKING_DATE, case cg.gm_id when 459 then 'Kia' end as PROCESS_NAME, cg.gm_id as PROCESS_ID, curdate() as UPDATE_DATE, case cl.stnk_id when 3 then 'Not Provided' when 2 then 'Provided' when 1 then 'Pending' else 'Not Updated' end as CNS_DETAILS FROM international_crm.crm_campaign_configurator ccc INNER JOIN international_crm.crm_gm cg ON cg.gm_id = ccc.gm_id INNER JOIN international_crm.crm_gm_dse_mapping cgdm ON cgdm.gm_id = cg.id AND cgdm.status = '1' INNER JOIN international_crm.crm_lead_assign_car clac ON clac.dse_id = cgdm.dse_id LEFT JOIN international_crm.crm_sublead_detail csd ON csd.assign_car_id = clac.id INNER JOIN international_crm.crm_lead cl ON cl.id = clac.lead_id INNER JOIN international_crm.crm_lead_customer clc ON clc.id = cl.customer_id INNER JOIN international_crm.crm_status_lang csl ON csl.status_id = cl.status_id AND csl.lang_id = 1 LEFT JOIN international_crm.crm_status_lang lms ON lms.status_id = clac.lms_status AND lms.lang_id = 1 INNER JOIN international_crm.crm_sub_status_lang cssl ON cssl.sub_status_id = cl.sub_status_id AND cssl.lang_id = 1 INNER JOIN inventory.make_model_lang mml ON mml.model_id=clac.model_id and mml.lang_id=1 LEFT JOIN international_crm.crm_raw_lead AS crl ON crl.id_lead = clac.id_lead AND clac.id_lead > 0 left join international_crm.crm_reasons_lang as crll on crll.reason_id=cl.reason_id and crll.lang_id='1' left join international_crm.dealer_lang as dealer on dealer.dealer_id = cl.purchase_dealer_id WHERE ccc.gm_id IN (459) AND ccc.campaign_type = 'CPS' AND ccc.is_active_process = '1' group by clac.lead_id; # 459 Kia\" ,conn)\n",
    "#SELECT * FROM CREATED_TABLE\n",
    "\n",
    "row1 = data.append({} , \n",
    "                    ignore_index=True)\n",
    "row2 = row1.append({} , \n",
    "                    ignore_index=True)\n",
    "\n",
    "row3 = row2.append({'CRM_NAME' : '--- UPDATE DATE ---',\n",
    "                    'CRM_CREATE_DATE' : \"-->\",\n",
    "                    'CRM_LAST_CALL_DATE' : pd.datetime.now().strftime(\"%m/%d/%Y\")} , \n",
    "                    ignore_index=True)\n",
    "\n",
    "#row3.to_csv('Ops Data.csv', index=False) #dulo lage #dulo 2\n",
    "\n",
    "row3.to_csv(process_id+'-'+process_name+'.csv', index=False)"
   ]
  },
  {
   "cell_type": "code",
   "execution_count": 4,
   "id": "4c412a51",
   "metadata": {},
   "outputs": [
    {
     "name": "stderr",
     "output_type": "stream",
     "text": [
      "C:\\Users\\CARBAY~2\\AppData\\Local\\Temp/ipykernel_16160/2336812055.py:11: FutureWarning: The pandas.datetime class is deprecated and will be removed from pandas in a future version. Import from datetime module instead.\n",
      "  counter = pd.datetime.now().strftime(\"%m-%d-%Y\")\n",
      "C:\\Users\\CARBAY~2\\AppData\\Local\\Temp/ipykernel_16160/2336812055.py:28: FutureWarning: The pandas.datetime class is deprecated and will be removed from pandas in a future version. Import from datetime module instead.\n",
      "  'CRM_LAST_CALL_DATE' : pd.datetime.now().strftime(\"%m/%d/%Y\")} ,\n"
     ]
    }
   ],
   "source": [
    "import pymysql\n",
    "import pandas as pd\n",
    "import datetime\n",
    "import smtplib\n",
    "from email.mime.text import MIMEText\n",
    "from email.mime.multipart import MIMEMultipart\n",
    "from email.mime.base import MIMEBase\n",
    "from email import encoders\n",
    "import os.path\n",
    "\n",
    "counter = pd.datetime.now().strftime(\"%m-%d-%Y\")\n",
    "\n",
    "process_name = 'Volkswagen' #PUT PROCESS NAME\n",
    "process_id = '515' #PUT PROCESS ID\n",
    "\n",
    "conn=pymysql.connect(host='10.10.30.4',port=int(3306),user='Mark',passwd='Mark##EKK3##@wee2',db='international_crm')\n",
    "\n",
    "data=pd.read_sql_query(\"SELECT clac.lead_id as CRM_ID,clc.name as CRM_NAME,clc.mobile as CRM_MOBILE,clac.created_date as CRM_CREATE_DATE,cl.num_attempt as CRM_CALL_ATTEMPT, if(cl.call_start_time is null, '', cl.call_start_time) as CRM_LAST_CALL_DATE, csl.name CRM_STAUS,cssl.name CRM_SUB_STATUS, if(cl.followup_date is null, '', cl.followup_date) as CRM_FOLLOW_UP_DATE, mml.model as LMS_MODEL, CASE WHEN (cl.purchase_car_details is not null AND cl.purchase_car_details !='') THEN (SELECT make FROM inventory.car_make_lang WHERE make_id=JSON_EXTRACT(cl.purchase_car_details, '$.make_id') and lang_id='1') END CRM_BOUGHT_MAKE, CASE WHEN (cl.purchase_car_details is not null AND cl.purchase_car_details !='') THEN (SELECT model FROM inventory.make_model_lang WHERE model_id=JSON_EXTRACT(cl.purchase_car_details, '$.model_id')  and lang_id='1') END CRM_BOUGHT_MODEL, if(cl.purchase_date is null, '', cl.purchase_date) as CRM_PURCHASE_DATE, dealer.name as CRM_PURCHASED_DEALER, if(dealer.name is null, '', dealer.name) as CRM_PURCHASED_DEALER, clac.ld_id as REQUEST_ID, case cl.attribution_status_id when 1 then 'New To Attribution' when 2 then 'Attribution Pending' when 3 then 'Attributed' when 4 then 'Closed' when 5 then 'Rejected' else '-' end as CRM_ATTRIBUTION_STATUS, crll.name CRM_REASON_BUYING, if(cl.booking_date is null, '', cl.booking_date) as CRM_BOOKING_DATE, case cg.gm_id when 515 then 'Volkswagen' end as PROCESS_NAME, cg.gm_id as PROCESS_ID, curdate() as UPDATE_DATE, case cl.stnk_id when 3 then 'Not Provided' when 2 then 'Provided' when 1 then 'Pending' else 'Not Updated' end as CNS_DETAILS FROM international_crm.crm_campaign_configurator ccc INNER JOIN international_crm.crm_gm cg ON cg.gm_id = ccc.gm_id INNER JOIN international_crm.crm_gm_dse_mapping cgdm ON cgdm.gm_id = cg.id AND cgdm.status = '1' INNER JOIN international_crm.crm_lead_assign_car clac ON clac.dse_id = cgdm.dse_id LEFT JOIN international_crm.crm_sublead_detail csd ON csd.assign_car_id = clac.id INNER JOIN international_crm.crm_lead cl ON cl.id = clac.lead_id INNER JOIN international_crm.crm_lead_customer clc ON clc.id = cl.customer_id INNER JOIN international_crm.crm_status_lang csl ON csl.status_id = cl.status_id AND csl.lang_id = 1 LEFT JOIN international_crm.crm_status_lang lms ON lms.status_id = clac.lms_status AND lms.lang_id = 1 INNER JOIN international_crm.crm_sub_status_lang cssl ON cssl.sub_status_id = cl.sub_status_id AND cssl.lang_id = 1 INNER JOIN inventory.make_model_lang mml ON mml.model_id=clac.model_id and mml.lang_id=1 LEFT JOIN international_crm.crm_raw_lead AS crl ON crl.id_lead = clac.id_lead AND clac.id_lead > 0 left join international_crm.crm_reasons_lang as crll on crll.reason_id=cl.reason_id and crll.lang_id='1' left join international_crm.dealer_lang as dealer on dealer.dealer_id = cl.purchase_dealer_id WHERE ccc.gm_id IN (515) AND ccc.campaign_type = 'CPS' AND ccc.is_active_process = '1' group by clac.lead_id; # 515 Volkswagen\" ,conn)\n",
    "#SELECT * FROM CREATED_TABLE\n",
    "\n",
    "row1 = data.append({} , \n",
    "                    ignore_index=True)\n",
    "row2 = row1.append({} , \n",
    "                    ignore_index=True)\n",
    "\n",
    "row3 = row2.append({'CRM_NAME' : '--- UPDATE DATE ---',\n",
    "                    'CRM_CREATE_DATE' : \"-->\",\n",
    "                    'CRM_LAST_CALL_DATE' : pd.datetime.now().strftime(\"%m/%d/%Y\")} , \n",
    "                    ignore_index=True)\n",
    "\n",
    "#row3.to_csv('Ops Data.csv', index=False) #dulo lage #dulo 2\n",
    "\n",
    "row3.to_csv(process_id+'-'+process_name+'.csv', index=False)"
   ]
  },
  {
   "cell_type": "code",
   "execution_count": 5,
   "id": "b6462b06",
   "metadata": {},
   "outputs": [
    {
     "name": "stderr",
     "output_type": "stream",
     "text": [
      "C:\\Users\\CARBAY~2\\AppData\\Local\\Temp/ipykernel_16160/779341012.py:11: FutureWarning: The pandas.datetime class is deprecated and will be removed from pandas in a future version. Import from datetime module instead.\n",
      "  counter = pd.datetime.now().strftime(\"%m-%d-%Y\")\n",
      "C:\\Users\\CARBAY~2\\AppData\\Local\\Temp/ipykernel_16160/779341012.py:28: FutureWarning: The pandas.datetime class is deprecated and will be removed from pandas in a future version. Import from datetime module instead.\n",
      "  'CRM_LAST_CALL_DATE' : pd.datetime.now().strftime(\"%m/%d/%Y\")} ,\n"
     ]
    }
   ],
   "source": [
    "import pymysql\n",
    "import pandas as pd\n",
    "import datetime\n",
    "import smtplib\n",
    "from email.mime.text import MIMEText\n",
    "from email.mime.multipart import MIMEMultipart\n",
    "from email.mime.base import MIMEBase\n",
    "from email import encoders\n",
    "import os.path\n",
    "\n",
    "counter = pd.datetime.now().strftime(\"%m-%d-%Y\")\n",
    "\n",
    "process_name = 'Toyota Makati' #PUT PROCESS NAME\n",
    "process_id = '1260' #PUT PROCESS ID\n",
    "\n",
    "conn=pymysql.connect(host='10.10.30.4',port=int(3306),user='Mark',passwd='Mark##EKK3##@wee2',db='international_crm')\n",
    "\n",
    "data=pd.read_sql_query(\"SELECT clac.lead_id as CRM_ID,clc.name as CRM_NAME,clc.mobile as CRM_MOBILE,clac.created_date as CRM_CREATE_DATE,cl.num_attempt as CRM_CALL_ATTEMPT, if(cl.call_start_time is null, '', cl.call_start_time) as CRM_LAST_CALL_DATE, csl.name CRM_STAUS,cssl.name CRM_SUB_STATUS, if(cl.followup_date is null, '', cl.followup_date) as CRM_FOLLOW_UP_DATE, mml.model as LMS_MODEL, CASE WHEN (cl.purchase_car_details is not null AND cl.purchase_car_details !='') THEN (SELECT make FROM inventory.car_make_lang WHERE make_id=JSON_EXTRACT(cl.purchase_car_details, '$.make_id') and lang_id='1') END CRM_BOUGHT_MAKE, CASE WHEN (cl.purchase_car_details is not null AND cl.purchase_car_details !='') THEN (SELECT model FROM inventory.make_model_lang WHERE model_id=JSON_EXTRACT(cl.purchase_car_details, '$.model_id')  and lang_id='1') END CRM_BOUGHT_MODEL, if(cl.purchase_date is null, '', cl.purchase_date) as CRM_PURCHASE_DATE, dealer.name as CRM_PURCHASED_DEALER, if(dealer.name is null, '', dealer.name) as CRM_PURCHASED_DEALER, clac.ld_id as REQUEST_ID, case cl.attribution_status_id when 1 then 'New To Attribution' when 2 then 'Attribution Pending' when 3 then 'Attributed' when 4 then 'Closed' when 5 then 'Rejected' else '-' end as CRM_ATTRIBUTION_STATUS, crll.name CRM_REASON_BUYING, if(cl.booking_date is null, '', cl.booking_date) as CRM_BOOKING_DATE, case cg.gm_id when 1260 then 'Toyota Makati' end as PROCESS_NAME, cg.gm_id as PROCESS_ID, curdate() as UPDATE_DATE, case cl.stnk_id when 3 then 'Not Provided' when 2 then 'Provided' when 1 then 'Pending' else 'Not Updated' end as CNS_DETAILS FROM international_crm.crm_campaign_configurator ccc INNER JOIN international_crm.crm_gm cg ON cg.gm_id = ccc.gm_id INNER JOIN international_crm.crm_gm_dse_mapping cgdm ON cgdm.gm_id = cg.id AND cgdm.status = '1' INNER JOIN international_crm.crm_lead_assign_car clac ON clac.dse_id = cgdm.dse_id LEFT JOIN international_crm.crm_sublead_detail csd ON csd.assign_car_id = clac.id INNER JOIN international_crm.crm_lead cl ON cl.id = clac.lead_id INNER JOIN international_crm.crm_lead_customer clc ON clc.id = cl.customer_id INNER JOIN international_crm.crm_status_lang csl ON csl.status_id = cl.status_id AND csl.lang_id = 1 LEFT JOIN international_crm.crm_status_lang lms ON lms.status_id = clac.lms_status AND lms.lang_id = 1 INNER JOIN international_crm.crm_sub_status_lang cssl ON cssl.sub_status_id = cl.sub_status_id AND cssl.lang_id = 1 INNER JOIN inventory.make_model_lang mml ON mml.model_id=clac.model_id and mml.lang_id=1 LEFT JOIN international_crm.crm_raw_lead AS crl ON crl.id_lead = clac.id_lead AND clac.id_lead > 0 left join international_crm.crm_reasons_lang as crll on crll.reason_id=cl.reason_id and crll.lang_id='1' left join international_crm.dealer_lang as dealer on dealer.dealer_id = cl.purchase_dealer_id WHERE ccc.gm_id IN (1260) AND ccc.campaign_type = 'CPS' AND ccc.is_active_process = '1' group by clac.lead_id; # 1260 Toyota Makati\" ,conn)\n",
    "#SELECT * FROM CREATED_TABLE\n",
    "\n",
    "row1 = data.append({} , \n",
    "                    ignore_index=True)\n",
    "row2 = row1.append({} , \n",
    "                    ignore_index=True)\n",
    "\n",
    "row3 = row2.append({'CRM_NAME' : '--- UPDATE DATE ---',\n",
    "                    'CRM_CREATE_DATE' : \"-->\",\n",
    "                    'CRM_LAST_CALL_DATE' : pd.datetime.now().strftime(\"%m/%d/%Y\")} , \n",
    "                    ignore_index=True)\n",
    "\n",
    "#row3.to_csv('Ops Data.csv', index=False) #dulo lage #dulo 2\n",
    "\n",
    "row3.to_csv(process_id+'-'+process_name+'.csv', index=False)"
   ]
  },
  {
   "cell_type": "code",
   "execution_count": 6,
   "id": "34353137",
   "metadata": {},
   "outputs": [
    {
     "name": "stderr",
     "output_type": "stream",
     "text": [
      "C:\\Users\\CARBAY~2\\AppData\\Local\\Temp/ipykernel_16160/1174911399.py:11: FutureWarning: The pandas.datetime class is deprecated and will be removed from pandas in a future version. Import from datetime module instead.\n",
      "  counter = pd.datetime.now().strftime(\"%m-%d-%Y\")\n",
      "C:\\Users\\CARBAY~2\\AppData\\Local\\Temp/ipykernel_16160/1174911399.py:28: FutureWarning: The pandas.datetime class is deprecated and will be removed from pandas in a future version. Import from datetime module instead.\n",
      "  'CRM_LAST_CALL_DATE' : pd.datetime.now().strftime(\"%m/%d/%Y\")} ,\n"
     ]
    }
   ],
   "source": [
    "import pymysql\n",
    "import pandas as pd\n",
    "import datetime\n",
    "import smtplib\n",
    "from email.mime.text import MIMEText\n",
    "from email.mime.multipart import MIMEMultipart\n",
    "from email.mime.base import MIMEBase\n",
    "from email import encoders\n",
    "import os.path\n",
    "\n",
    "counter = pd.datetime.now().strftime(\"%m-%d-%Y\")\n",
    "\n",
    "process_name = 'Toyota Talisay, Cebu' #PUT PROCESS NAME\n",
    "process_id = '1883' #PUT PROCESS ID\n",
    "\n",
    "conn=pymysql.connect(host='10.10.30.4',port=int(3306),user='Mark',passwd='Mark##EKK3##@wee2',db='international_crm')\n",
    "\n",
    "data=pd.read_sql_query(\"SELECT clac.lead_id as CRM_ID,clc.name as CRM_NAME,clc.mobile as CRM_MOBILE,clac.created_date as CRM_CREATE_DATE,cl.num_attempt as CRM_CALL_ATTEMPT, if(cl.call_start_time is null, '', cl.call_start_time) as CRM_LAST_CALL_DATE, csl.name CRM_STAUS,cssl.name CRM_SUB_STATUS, if(cl.followup_date is null, '', cl.followup_date) as CRM_FOLLOW_UP_DATE, mml.model as LMS_MODEL, CASE WHEN (cl.purchase_car_details is not null AND cl.purchase_car_details !='') THEN (SELECT make FROM inventory.car_make_lang WHERE make_id=JSON_EXTRACT(cl.purchase_car_details, '$.make_id') and lang_id='1') END CRM_BOUGHT_MAKE, CASE WHEN (cl.purchase_car_details is not null AND cl.purchase_car_details !='') THEN (SELECT model FROM inventory.make_model_lang WHERE model_id=JSON_EXTRACT(cl.purchase_car_details, '$.model_id')  and lang_id='1') END CRM_BOUGHT_MODEL, if(cl.purchase_date is null, '', cl.purchase_date) as CRM_PURCHASE_DATE, dealer.name as CRM_PURCHASED_DEALER, if(dealer.name is null, '', dealer.name) as CRM_PURCHASED_DEALER, clac.ld_id as REQUEST_ID, case cl.attribution_status_id when 1 then 'New To Attribution' when 2 then 'Attribution Pending' when 3 then 'Attributed' when 4 then 'Closed' when 5 then 'Rejected' else '-' end as CRM_ATTRIBUTION_STATUS, crll.name CRM_REASON_BUYING, if(cl.booking_date is null, '', cl.booking_date) as CRM_BOOKING_DATE, case cg.gm_id when 1883 then 'Toyota Talisay, Cebu' end as PROCESS_NAME, cg.gm_id as PROCESS_ID, curdate() as UPDATE_DATE, case cl.stnk_id when 3 then 'Not Provided' when 2 then 'Provided' when 1 then 'Pending' else 'Not Updated' end as CNS_DETAILS FROM international_crm.crm_campaign_configurator ccc INNER JOIN international_crm.crm_gm cg ON cg.gm_id = ccc.gm_id INNER JOIN international_crm.crm_gm_dse_mapping cgdm ON cgdm.gm_id = cg.id AND cgdm.status = '1' INNER JOIN international_crm.crm_lead_assign_car clac ON clac.dse_id = cgdm.dse_id LEFT JOIN international_crm.crm_sublead_detail csd ON csd.assign_car_id = clac.id INNER JOIN international_crm.crm_lead cl ON cl.id = clac.lead_id INNER JOIN international_crm.crm_lead_customer clc ON clc.id = cl.customer_id INNER JOIN international_crm.crm_status_lang csl ON csl.status_id = cl.status_id AND csl.lang_id = 1 LEFT JOIN international_crm.crm_status_lang lms ON lms.status_id = clac.lms_status AND lms.lang_id = 1 INNER JOIN international_crm.crm_sub_status_lang cssl ON cssl.sub_status_id = cl.sub_status_id AND cssl.lang_id = 1 INNER JOIN inventory.make_model_lang mml ON mml.model_id=clac.model_id and mml.lang_id=1 LEFT JOIN international_crm.crm_raw_lead AS crl ON crl.id_lead = clac.id_lead AND clac.id_lead > 0 left join international_crm.crm_reasons_lang as crll on crll.reason_id=cl.reason_id and crll.lang_id='1' left join international_crm.dealer_lang as dealer on dealer.dealer_id = cl.purchase_dealer_id WHERE ccc.gm_id IN (1883) AND ccc.campaign_type = 'CPS' AND ccc.is_active_process = '1' group by clac.lead_id; # 1883 Toyota Talisay, Cebu\" ,conn)\n",
    "#SELECT * FROM CREATED_TABLE\n",
    "\n",
    "row1 = data.append({} , \n",
    "                    ignore_index=True)\n",
    "row2 = row1.append({} , \n",
    "                    ignore_index=True)\n",
    "\n",
    "row3 = row2.append({'CRM_NAME' : '--- UPDATE DATE ---',\n",
    "                    'CRM_CREATE_DATE' : \"-->\",\n",
    "                    'CRM_LAST_CALL_DATE' : pd.datetime.now().strftime(\"%m/%d/%Y\")} , \n",
    "                    ignore_index=True)\n",
    "\n",
    "#row3.to_csv('Ops Data.csv', index=False) #dulo lage #dulo 2\n",
    "\n",
    "row3.to_csv(process_id+'-'+process_name+'.csv', index=False)"
   ]
  },
  {
   "cell_type": "code",
   "execution_count": 7,
   "id": "d24c32f1",
   "metadata": {},
   "outputs": [
    {
     "name": "stderr",
     "output_type": "stream",
     "text": [
      "C:\\Users\\CARBAY~2\\AppData\\Local\\Temp/ipykernel_16160/3805647081.py:11: FutureWarning: The pandas.datetime class is deprecated and will be removed from pandas in a future version. Import from datetime module instead.\n",
      "  counter = pd.datetime.now().strftime(\"%m-%d-%Y\")\n",
      "C:\\Users\\CARBAY~2\\AppData\\Local\\Temp/ipykernel_16160/3805647081.py:28: FutureWarning: The pandas.datetime class is deprecated and will be removed from pandas in a future version. Import from datetime module instead.\n",
      "  'CRM_LAST_CALL_DATE' : pd.datetime.now().strftime(\"%m/%d/%Y\")} ,\n"
     ]
    }
   ],
   "source": [
    "import pymysql\n",
    "import pandas as pd\n",
    "import datetime\n",
    "import smtplib\n",
    "from email.mime.text import MIMEText\n",
    "from email.mime.multipart import MIMEMultipart\n",
    "from email.mime.base import MIMEBase\n",
    "from email import encoders\n",
    "import os.path\n",
    "\n",
    "counter = pd.datetime.now().strftime(\"%m-%d-%Y\")\n",
    "\n",
    "process_name = 'Autohub Group' #PUT PROCESS NAME\n",
    "process_id = '2025' #PUT PROCESS ID\n",
    "\n",
    "conn=pymysql.connect(host='10.10.30.4',port=int(3306),user='Mark',passwd='Mark##EKK3##@wee2',db='international_crm')\n",
    "\n",
    "data=pd.read_sql_query(\"SELECT clac.lead_id as CRM_ID,clc.name as CRM_NAME,clc.mobile as CRM_MOBILE,clac.created_date as CRM_CREATE_DATE,cl.num_attempt as CRM_CALL_ATTEMPT, if(cl.call_start_time is null, '', cl.call_start_time) as CRM_LAST_CALL_DATE, csl.name CRM_STAUS,cssl.name CRM_SUB_STATUS, if(cl.followup_date is null, '', cl.followup_date) as CRM_FOLLOW_UP_DATE, mml.model as LMS_MODEL, CASE WHEN (cl.purchase_car_details is not null AND cl.purchase_car_details !='') THEN (SELECT make FROM inventory.car_make_lang WHERE make_id=JSON_EXTRACT(cl.purchase_car_details, '$.make_id') and lang_id='1') END CRM_BOUGHT_MAKE, CASE WHEN (cl.purchase_car_details is not null AND cl.purchase_car_details !='') THEN (SELECT model FROM inventory.make_model_lang WHERE model_id=JSON_EXTRACT(cl.purchase_car_details, '$.model_id')  and lang_id='1') END CRM_BOUGHT_MODEL, if(cl.purchase_date is null, '', cl.purchase_date) as CRM_PURCHASE_DATE, dealer.name as CRM_PURCHASED_DEALER, if(dealer.name is null, '', dealer.name) as CRM_PURCHASED_DEALER, clac.ld_id as REQUEST_ID, case cl.attribution_status_id when 1 then 'New To Attribution' when 2 then 'Attribution Pending' when 3 then 'Attributed' when 4 then 'Closed' when 5 then 'Rejected' else '-' end as CRM_ATTRIBUTION_STATUS, crll.name CRM_REASON_BUYING, if(cl.booking_date is null, '', cl.booking_date) as CRM_BOOKING_DATE, case cg.gm_id when 2025 then 'Autohub Group' end as PROCESS_NAME, cg.gm_id as PROCESS_ID, curdate() as UPDATE_DATE, case cl.stnk_id when 3 then 'Not Provided' when 2 then 'Provided' when 1 then 'Pending' else 'Not Updated' end as CNS_DETAILS FROM international_crm.crm_campaign_configurator ccc INNER JOIN international_crm.crm_gm cg ON cg.gm_id = ccc.gm_id INNER JOIN international_crm.crm_gm_dse_mapping cgdm ON cgdm.gm_id = cg.id AND cgdm.status = '1' INNER JOIN international_crm.crm_lead_assign_car clac ON clac.dse_id = cgdm.dse_id LEFT JOIN international_crm.crm_sublead_detail csd ON csd.assign_car_id = clac.id INNER JOIN international_crm.crm_lead cl ON cl.id = clac.lead_id INNER JOIN international_crm.crm_lead_customer clc ON clc.id = cl.customer_id INNER JOIN international_crm.crm_status_lang csl ON csl.status_id = cl.status_id AND csl.lang_id = 1 LEFT JOIN international_crm.crm_status_lang lms ON lms.status_id = clac.lms_status AND lms.lang_id = 1 INNER JOIN international_crm.crm_sub_status_lang cssl ON cssl.sub_status_id = cl.sub_status_id AND cssl.lang_id = 1 INNER JOIN inventory.make_model_lang mml ON mml.model_id=clac.model_id and mml.lang_id=1 LEFT JOIN international_crm.crm_raw_lead AS crl ON crl.id_lead = clac.id_lead AND clac.id_lead > 0 left join international_crm.crm_reasons_lang as crll on crll.reason_id=cl.reason_id and crll.lang_id='1' left join international_crm.dealer_lang as dealer on dealer.dealer_id = cl.purchase_dealer_id WHERE ccc.gm_id IN (2025) AND ccc.campaign_type = 'CPS' AND ccc.is_active_process = '1' group by clac.lead_id; # 2025 Autohub Group\" ,conn)\n",
    "#SELECT * FROM CREATED_TABLE\n",
    "\n",
    "row1 = data.append({} , \n",
    "                    ignore_index=True)\n",
    "row2 = row1.append({} , \n",
    "                    ignore_index=True)\n",
    "\n",
    "row3 = row2.append({'CRM_NAME' : '--- UPDATE DATE ---',\n",
    "                    'CRM_CREATE_DATE' : \"-->\",\n",
    "                    'CRM_LAST_CALL_DATE' : pd.datetime.now().strftime(\"%m/%d/%Y\")} , \n",
    "                    ignore_index=True)\n",
    "\n",
    "#row3.to_csv('Ops Data.csv', index=False) #dulo lage #dulo 2\n",
    "\n",
    "row3.to_csv(process_id+'-'+process_name+'.csv', index=False)"
   ]
  },
  {
   "cell_type": "code",
   "execution_count": 8,
   "id": "05eb874c",
   "metadata": {},
   "outputs": [
    {
     "name": "stderr",
     "output_type": "stream",
     "text": [
      "C:\\Users\\CARBAY~2\\AppData\\Local\\Temp/ipykernel_16160/3556505576.py:11: FutureWarning: The pandas.datetime class is deprecated and will be removed from pandas in a future version. Import from datetime module instead.\n",
      "  counter = pd.datetime.now().strftime(\"%m-%d-%Y\")\n",
      "C:\\Users\\CARBAY~2\\AppData\\Local\\Temp/ipykernel_16160/3556505576.py:28: FutureWarning: The pandas.datetime class is deprecated and will be removed from pandas in a future version. Import from datetime module instead.\n",
      "  'CRM_LAST_CALL_DATE' : pd.datetime.now().strftime(\"%m/%d/%Y\")} ,\n"
     ]
    }
   ],
   "source": [
    "import pymysql\n",
    "import pandas as pd\n",
    "import datetime\n",
    "import smtplib\n",
    "from email.mime.text import MIMEText\n",
    "from email.mime.multipart import MIMEMultipart\n",
    "from email.mime.base import MIMEBase\n",
    "from email import encoders\n",
    "import os.path\n",
    "\n",
    "counter = pd.datetime.now().strftime(\"%m-%d-%Y\")\n",
    "\n",
    "process_name = 'Toyota Plaridel' #PUT PROCESS NAME\n",
    "process_id = '766' #PUT PROCESS ID\n",
    "\n",
    "conn=pymysql.connect(host='10.10.30.4',port=int(3306),user='Mark',passwd='Mark##EKK3##@wee2',db='international_crm')\n",
    "\n",
    "data=pd.read_sql_query(\"SELECT clac.lead_id as CRM_ID,clc.name as CRM_NAME,clc.mobile as CRM_MOBILE,clac.created_date as CRM_CREATE_DATE,cl.num_attempt as CRM_CALL_ATTEMPT, if(cl.call_start_time is null, '', cl.call_start_time) as CRM_LAST_CALL_DATE, csl.name CRM_STAUS,cssl.name CRM_SUB_STATUS, if(cl.followup_date is null, '', cl.followup_date) as CRM_FOLLOW_UP_DATE, mml.model as LMS_MODEL, CASE WHEN (cl.purchase_car_details is not null AND cl.purchase_car_details !='') THEN (SELECT make FROM inventory.car_make_lang WHERE make_id=JSON_EXTRACT(cl.purchase_car_details, '$.make_id') and lang_id='1') END CRM_BOUGHT_MAKE, CASE WHEN (cl.purchase_car_details is not null AND cl.purchase_car_details !='') THEN (SELECT model FROM inventory.make_model_lang WHERE model_id=JSON_EXTRACT(cl.purchase_car_details, '$.model_id')  and lang_id='1') END CRM_BOUGHT_MODEL, if(cl.purchase_date is null, '', cl.purchase_date) as CRM_PURCHASE_DATE, dealer.name as CRM_PURCHASED_DEALER, if(dealer.name is null, '', dealer.name) as CRM_PURCHASED_DEALER, clac.ld_id as REQUEST_ID, case cl.attribution_status_id when 1 then 'New To Attribution' when 2 then 'Attribution Pending' when 3 then 'Attributed' when 4 then 'Closed' when 5 then 'Rejected' else '-' end as CRM_ATTRIBUTION_STATUS, crll.name CRM_REASON_BUYING, if(cl.booking_date is null, '', cl.booking_date) as CRM_BOOKING_DATE, case cg.gm_id when 766 then 'Toyota Plaridel' end as PROCESS_NAME, cg.gm_id as PROCESS_ID, curdate() as UPDATE_DATE, case cl.stnk_id when 3 then 'Not Provided' when 2 then 'Provided' when 1 then 'Pending' else 'Not Updated' end as CNS_DETAILS FROM international_crm.crm_campaign_configurator ccc INNER JOIN international_crm.crm_gm cg ON cg.gm_id = ccc.gm_id INNER JOIN international_crm.crm_gm_dse_mapping cgdm ON cgdm.gm_id = cg.id AND cgdm.status = '1' INNER JOIN international_crm.crm_lead_assign_car clac ON clac.dse_id = cgdm.dse_id LEFT JOIN international_crm.crm_sublead_detail csd ON csd.assign_car_id = clac.id INNER JOIN international_crm.crm_lead cl ON cl.id = clac.lead_id INNER JOIN international_crm.crm_lead_customer clc ON clc.id = cl.customer_id INNER JOIN international_crm.crm_status_lang csl ON csl.status_id = cl.status_id AND csl.lang_id = 1 LEFT JOIN international_crm.crm_status_lang lms ON lms.status_id = clac.lms_status AND lms.lang_id = 1 INNER JOIN international_crm.crm_sub_status_lang cssl ON cssl.sub_status_id = cl.sub_status_id AND cssl.lang_id = 1 INNER JOIN inventory.make_model_lang mml ON mml.model_id=clac.model_id and mml.lang_id=1 LEFT JOIN international_crm.crm_raw_lead AS crl ON crl.id_lead = clac.id_lead AND clac.id_lead > 0 left join international_crm.crm_reasons_lang as crll on crll.reason_id=cl.reason_id and crll.lang_id='1' left join international_crm.dealer_lang as dealer on dealer.dealer_id = cl.purchase_dealer_id WHERE ccc.gm_id IN (766) AND ccc.campaign_type = 'CPS' AND ccc.is_active_process = '1' group by clac.lead_id; # 766 Toyota Plaridel\" ,conn)\n",
    "#SELECT * FROM CREATED_TABLE\n",
    "\n",
    "row1 = data.append({} , \n",
    "                    ignore_index=True)\n",
    "row2 = row1.append({} , \n",
    "                    ignore_index=True)\n",
    "\n",
    "row3 = row2.append({'CRM_NAME' : '--- UPDATE DATE ---',\n",
    "                    'CRM_CREATE_DATE' : \"-->\",\n",
    "                    'CRM_LAST_CALL_DATE' : pd.datetime.now().strftime(\"%m/%d/%Y\")} , \n",
    "                    ignore_index=True)\n",
    "\n",
    "#row3.to_csv('Ops Data.csv', index=False) #dulo lage #dulo 2\n",
    "\n",
    "row3.to_csv(process_id+'-'+process_name+'.csv', index=False)"
   ]
  },
  {
   "cell_type": "code",
   "execution_count": 9,
   "id": "801c925f",
   "metadata": {},
   "outputs": [
    {
     "name": "stderr",
     "output_type": "stream",
     "text": [
      "C:\\Users\\CARBAY~2\\AppData\\Local\\Temp/ipykernel_16160/3968847663.py:11: FutureWarning: The pandas.datetime class is deprecated and will be removed from pandas in a future version. Import from datetime module instead.\n",
      "  counter = pd.datetime.now().strftime(\"%m-%d-%Y\")\n",
      "C:\\Users\\CARBAY~2\\AppData\\Local\\Temp/ipykernel_16160/3968847663.py:28: FutureWarning: The pandas.datetime class is deprecated and will be removed from pandas in a future version. Import from datetime module instead.\n",
      "  'CRM_LAST_CALL_DATE' : pd.datetime.now().strftime(\"%m/%d/%Y\")} ,\n"
     ]
    }
   ],
   "source": [
    "import pymysql\n",
    "import pandas as pd\n",
    "import datetime\n",
    "import smtplib\n",
    "from email.mime.text import MIMEText\n",
    "from email.mime.multipart import MIMEMultipart\n",
    "from email.mime.base import MIMEBase\n",
    "from email import encoders\n",
    "import os.path\n",
    "\n",
    "counter = pd.datetime.now().strftime(\"%m-%d-%Y\")\n",
    "\n",
    "process_name = 'Hyundai Cabanatuan' #PUT PROCESS NAME\n",
    "process_id = '769' #PUT PROCESS ID\n",
    "\n",
    "conn=pymysql.connect(host='10.10.30.4',port=int(3306),user='Mark',passwd='Mark##EKK3##@wee2',db='international_crm')\n",
    "\n",
    "data=pd.read_sql_query(\"SELECT clac.lead_id as CRM_ID,clc.name as CRM_NAME,clc.mobile as CRM_MOBILE,clac.created_date as CRM_CREATE_DATE,cl.num_attempt as CRM_CALL_ATTEMPT, if(cl.call_start_time is null, '', cl.call_start_time) as CRM_LAST_CALL_DATE, csl.name CRM_STAUS,cssl.name CRM_SUB_STATUS, if(cl.followup_date is null, '', cl.followup_date) as CRM_FOLLOW_UP_DATE, mml.model as LMS_MODEL, CASE WHEN (cl.purchase_car_details is not null AND cl.purchase_car_details !='') THEN (SELECT make FROM inventory.car_make_lang WHERE make_id=JSON_EXTRACT(cl.purchase_car_details, '$.make_id') and lang_id='1') END CRM_BOUGHT_MAKE, CASE WHEN (cl.purchase_car_details is not null AND cl.purchase_car_details !='') THEN (SELECT model FROM inventory.make_model_lang WHERE model_id=JSON_EXTRACT(cl.purchase_car_details, '$.model_id')  and lang_id='1') END CRM_BOUGHT_MODEL, if(cl.purchase_date is null, '', cl.purchase_date) as CRM_PURCHASE_DATE, dealer.name as CRM_PURCHASED_DEALER, if(dealer.name is null, '', dealer.name) as CRM_PURCHASED_DEALER, clac.ld_id as REQUEST_ID, case cl.attribution_status_id when 1 then 'New To Attribution' when 2 then 'Attribution Pending' when 3 then 'Attributed' when 4 then 'Closed' when 5 then 'Rejected' else '-' end as CRM_ATTRIBUTION_STATUS, crll.name CRM_REASON_BUYING, if(cl.booking_date is null, '', cl.booking_date) as CRM_BOOKING_DATE, case cg.gm_id when 769 then 'Hyundai Cabanatuan' end as PROCESS_NAME, cg.gm_id as PROCESS_ID, curdate() as UPDATE_DATE, case cl.stnk_id when 3 then 'Not Provided' when 2 then 'Provided' when 1 then 'Pending' else 'Not Updated' end as CNS_DETAILS FROM international_crm.crm_campaign_configurator ccc INNER JOIN international_crm.crm_gm cg ON cg.gm_id = ccc.gm_id INNER JOIN international_crm.crm_gm_dse_mapping cgdm ON cgdm.gm_id = cg.id AND cgdm.status = '1' INNER JOIN international_crm.crm_lead_assign_car clac ON clac.dse_id = cgdm.dse_id LEFT JOIN international_crm.crm_sublead_detail csd ON csd.assign_car_id = clac.id INNER JOIN international_crm.crm_lead cl ON cl.id = clac.lead_id INNER JOIN international_crm.crm_lead_customer clc ON clc.id = cl.customer_id INNER JOIN international_crm.crm_status_lang csl ON csl.status_id = cl.status_id AND csl.lang_id = 1 LEFT JOIN international_crm.crm_status_lang lms ON lms.status_id = clac.lms_status AND lms.lang_id = 1 INNER JOIN international_crm.crm_sub_status_lang cssl ON cssl.sub_status_id = cl.sub_status_id AND cssl.lang_id = 1 INNER JOIN inventory.make_model_lang mml ON mml.model_id=clac.model_id and mml.lang_id=1 LEFT JOIN international_crm.crm_raw_lead AS crl ON crl.id_lead = clac.id_lead AND clac.id_lead > 0 left join international_crm.crm_reasons_lang as crll on crll.reason_id=cl.reason_id and crll.lang_id='1' left join international_crm.dealer_lang as dealer on dealer.dealer_id = cl.purchase_dealer_id WHERE ccc.gm_id IN (769) AND ccc.campaign_type = 'CPS' AND ccc.is_active_process = '1' group by clac.lead_id; # 769 Hyundai Cabanatuan\" ,conn)\n",
    "#SELECT * FROM CREATED_TABLE\n",
    "\n",
    "row1 = data.append({} , \n",
    "                    ignore_index=True)\n",
    "row2 = row1.append({} , \n",
    "                    ignore_index=True)\n",
    "\n",
    "row3 = row2.append({'CRM_NAME' : '--- UPDATE DATE ---',\n",
    "                    'CRM_CREATE_DATE' : \"-->\",\n",
    "                    'CRM_LAST_CALL_DATE' : pd.datetime.now().strftime(\"%m/%d/%Y\")} , \n",
    "                    ignore_index=True)\n",
    "\n",
    "#row3.to_csv('Ops Data.csv', index=False) #dulo lage #dulo 2\n",
    "\n",
    "row3.to_csv(process_id+'-'+process_name+'.csv', index=False)"
   ]
  },
  {
   "cell_type": "code",
   "execution_count": 10,
   "id": "8107fa63",
   "metadata": {},
   "outputs": [
    {
     "name": "stderr",
     "output_type": "stream",
     "text": [
      "C:\\Users\\CARBAY~2\\AppData\\Local\\Temp/ipykernel_16160/2260289067.py:11: FutureWarning: The pandas.datetime class is deprecated and will be removed from pandas in a future version. Import from datetime module instead.\n",
      "  counter = pd.datetime.now().strftime(\"%m-%d-%Y\")\n",
      "C:\\Users\\CARBAY~2\\AppData\\Local\\Temp/ipykernel_16160/2260289067.py:28: FutureWarning: The pandas.datetime class is deprecated and will be removed from pandas in a future version. Import from datetime module instead.\n",
      "  'CRM_LAST_CALL_DATE' : pd.datetime.now().strftime(\"%m/%d/%Y\")} ,\n"
     ]
    }
   ],
   "source": [
    "import pymysql\n",
    "import pandas as pd\n",
    "import datetime\n",
    "import smtplib\n",
    "from email.mime.text import MIMEText\n",
    "from email.mime.multipart import MIMEMultipart\n",
    "from email.mime.base import MIMEBase\n",
    "from email import encoders\n",
    "import os.path\n",
    "\n",
    "counter = pd.datetime.now().strftime(\"%m-%d-%Y\")\n",
    "\n",
    "process_name = 'Toyota Bataan' #PUT PROCESS NAME\n",
    "process_id = '797' #PUT PROCESS ID\n",
    "\n",
    "conn=pymysql.connect(host='10.10.30.4',port=int(3306),user='Mark',passwd='Mark##EKK3##@wee2',db='international_crm')\n",
    "\n",
    "data=pd.read_sql_query(\"SELECT clac.lead_id as CRM_ID,clc.name as CRM_NAME,clc.mobile as CRM_MOBILE,clac.created_date as CRM_CREATE_DATE,cl.num_attempt as CRM_CALL_ATTEMPT, if(cl.call_start_time is null, '', cl.call_start_time) as CRM_LAST_CALL_DATE, csl.name CRM_STAUS,cssl.name CRM_SUB_STATUS, if(cl.followup_date is null, '', cl.followup_date) as CRM_FOLLOW_UP_DATE, mml.model as LMS_MODEL, CASE WHEN (cl.purchase_car_details is not null AND cl.purchase_car_details !='') THEN (SELECT make FROM inventory.car_make_lang WHERE make_id=JSON_EXTRACT(cl.purchase_car_details, '$.make_id') and lang_id='1') END CRM_BOUGHT_MAKE, CASE WHEN (cl.purchase_car_details is not null AND cl.purchase_car_details !='') THEN (SELECT model FROM inventory.make_model_lang WHERE model_id=JSON_EXTRACT(cl.purchase_car_details, '$.model_id')  and lang_id='1') END CRM_BOUGHT_MODEL, if(cl.purchase_date is null, '', cl.purchase_date) as CRM_PURCHASE_DATE, dealer.name as CRM_PURCHASED_DEALER, if(dealer.name is null, '', dealer.name) as CRM_PURCHASED_DEALER, clac.ld_id as REQUEST_ID, case cl.attribution_status_id when 1 then 'New To Attribution' when 2 then 'Attribution Pending' when 3 then 'Attributed' when 4 then 'Closed' when 5 then 'Rejected' else '-' end as CRM_ATTRIBUTION_STATUS, crll.name CRM_REASON_BUYING, if(cl.booking_date is null, '', cl.booking_date) as CRM_BOOKING_DATE, case cg.gm_id when 797 then 'Toyota Bataan' end as PROCESS_NAME, cg.gm_id as PROCESS_ID, curdate() as UPDATE_DATE, case cl.stnk_id when 3 then 'Not Provided' when 2 then 'Provided' when 1 then 'Pending' else 'Not Updated' end as CNS_DETAILS FROM international_crm.crm_campaign_configurator ccc INNER JOIN international_crm.crm_gm cg ON cg.gm_id = ccc.gm_id INNER JOIN international_crm.crm_gm_dse_mapping cgdm ON cgdm.gm_id = cg.id AND cgdm.status = '1' INNER JOIN international_crm.crm_lead_assign_car clac ON clac.dse_id = cgdm.dse_id LEFT JOIN international_crm.crm_sublead_detail csd ON csd.assign_car_id = clac.id INNER JOIN international_crm.crm_lead cl ON cl.id = clac.lead_id INNER JOIN international_crm.crm_lead_customer clc ON clc.id = cl.customer_id INNER JOIN international_crm.crm_status_lang csl ON csl.status_id = cl.status_id AND csl.lang_id = 1 LEFT JOIN international_crm.crm_status_lang lms ON lms.status_id = clac.lms_status AND lms.lang_id = 1 INNER JOIN international_crm.crm_sub_status_lang cssl ON cssl.sub_status_id = cl.sub_status_id AND cssl.lang_id = 1 INNER JOIN inventory.make_model_lang mml ON mml.model_id=clac.model_id and mml.lang_id=1 LEFT JOIN international_crm.crm_raw_lead AS crl ON crl.id_lead = clac.id_lead AND clac.id_lead > 0 left join international_crm.crm_reasons_lang as crll on crll.reason_id=cl.reason_id and crll.lang_id='1' left join international_crm.dealer_lang as dealer on dealer.dealer_id = cl.purchase_dealer_id WHERE ccc.gm_id IN (797) AND ccc.campaign_type = 'CPS' AND ccc.is_active_process = '1' group by clac.lead_id; # 797 Toyota Bataan\" ,conn)\n",
    "#SELECT * FROM CREATED_TABLE\n",
    "\n",
    "row1 = data.append({} , \n",
    "                    ignore_index=True)\n",
    "row2 = row1.append({} , \n",
    "                    ignore_index=True)\n",
    "\n",
    "row3 = row2.append({'CRM_NAME' : '--- UPDATE DATE ---',\n",
    "                    'CRM_CREATE_DATE' : \"-->\",\n",
    "                    'CRM_LAST_CALL_DATE' : pd.datetime.now().strftime(\"%m/%d/%Y\")} , \n",
    "                    ignore_index=True)\n",
    "\n",
    "#row3.to_csv('Ops Data.csv', index=False) #dulo lage #dulo 2\n",
    "\n",
    "row3.to_csv(process_id+'-'+process_name+'.csv', index=False)"
   ]
  },
  {
   "cell_type": "code",
   "execution_count": null,
   "id": "2b06d304",
   "metadata": {},
   "outputs": [],
   "source": []
  }
 ],
 "metadata": {
  "kernelspec": {
   "display_name": "Python 3 (ipykernel)",
   "language": "python",
   "name": "python3"
  },
  "language_info": {
   "codemirror_mode": {
    "name": "ipython",
    "version": 3
   },
   "file_extension": ".py",
   "mimetype": "text/x-python",
   "name": "python",
   "nbconvert_exporter": "python",
   "pygments_lexer": "ipython3",
   "version": "3.9.7"
  }
 },
 "nbformat": 4,
 "nbformat_minor": 5
}
